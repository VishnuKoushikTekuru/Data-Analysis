{
 "cells": [
  {
   "cell_type": "code",
   "execution_count": 1,
   "id": "3fddfeea",
   "metadata": {},
   "outputs": [
    {
     "name": "stderr",
     "output_type": "stream",
     "text": [
      "<ipython-input-1-9054ec257a34>:3: FutureWarning: The pandas.datetime class is deprecated and will be removed from pandas in a future version. Import from datetime module instead.\n",
      "  from pandas import datetime\n"
     ]
    }
   ],
   "source": [
    "import pandas as pd\n",
    "from pandas import read_csv\n",
    "from pandas import datetime\n",
    "from matplotlib import pyplot\n",
    "import os\n",
    "import glob\n",
    "import matplotlib as mpl\n",
    "import matplotlib.pyplot as plt\n",
    "from sklearn.preprocessing import MinMaxScaler, StandardScaler"
   ]
  },
  {
   "cell_type": "code",
   "execution_count": 2,
   "id": "ccb4c77c",
   "metadata": {},
   "outputs": [],
   "source": [
    "os.chdir(r'C:\\Users\\koush\\Desktop\\cgm')"
   ]
  },
  {
   "cell_type": "code",
   "execution_count": 3,
   "id": "872f8887",
   "metadata": {},
   "outputs": [],
   "source": [
    "files= glob.glob(\"*.csv\")"
   ]
  },
  {
   "cell_type": "code",
   "execution_count": 4,
   "id": "53da9fd3",
   "metadata": {},
   "outputs": [
    {
     "data": {
      "text/plain": [
       "['CGMDatenumLunchPat1.csv',\n",
       " 'CGMSeriesLunchPat1.csv',\n",
       " 'HortonGeneralHospital.csv']"
      ]
     },
     "execution_count": 4,
     "metadata": {},
     "output_type": "execute_result"
    }
   ],
   "source": [
    "files"
   ]
  },
  {
   "cell_type": "code",
   "execution_count": 5,
   "id": "716e66ce",
   "metadata": {},
   "outputs": [],
   "source": [
    "csv_file = pd.read_csv(\"HortonGeneralHospital.csv\")"
   ]
  },
  {
   "cell_type": "code",
   "execution_count": 6,
   "id": "80bdc2ba",
   "metadata": {},
   "outputs": [
    {
     "data": {
      "text/html": [
       "<div>\n",
       "<style scoped>\n",
       "    .dataframe tbody tr th:only-of-type {\n",
       "        vertical-align: middle;\n",
       "    }\n",
       "\n",
       "    .dataframe tbody tr th {\n",
       "        vertical-align: top;\n",
       "    }\n",
       "\n",
       "    .dataframe thead th {\n",
       "        text-align: right;\n",
       "    }\n",
       "</style>\n",
       "<table border=\"1\" class=\"dataframe\">\n",
       "  <thead>\n",
       "    <tr style=\"text-align: right;\">\n",
       "      <th></th>\n",
       "      <th>Unnamed: 0</th>\n",
       "      <th>Cardio</th>\n",
       "      <th>Resp</th>\n",
       "      <th>Hypo</th>\n",
       "      <th>Adm</th>\n",
       "      <th>year</th>\n",
       "      <th>month</th>\n",
       "    </tr>\n",
       "  </thead>\n",
       "  <tbody>\n",
       "    <tr>\n",
       "      <th>0</th>\n",
       "      <td>1</td>\n",
       "      <td>1</td>\n",
       "      <td>0</td>\n",
       "      <td>0</td>\n",
       "      <td>413</td>\n",
       "      <td>1999</td>\n",
       "      <td>11</td>\n",
       "    </tr>\n",
       "    <tr>\n",
       "      <th>1</th>\n",
       "      <td>2</td>\n",
       "      <td>1</td>\n",
       "      <td>0</td>\n",
       "      <td>0</td>\n",
       "      <td>443</td>\n",
       "      <td>1999</td>\n",
       "      <td>12</td>\n",
       "    </tr>\n",
       "    <tr>\n",
       "      <th>2</th>\n",
       "      <td>3</td>\n",
       "      <td>1</td>\n",
       "      <td>0</td>\n",
       "      <td>0</td>\n",
       "      <td>378</td>\n",
       "      <td>2000</td>\n",
       "      <td>1</td>\n",
       "    </tr>\n",
       "    <tr>\n",
       "      <th>3</th>\n",
       "      <td>4</td>\n",
       "      <td>0</td>\n",
       "      <td>0</td>\n",
       "      <td>0</td>\n",
       "      <td>385</td>\n",
       "      <td>2000</td>\n",
       "      <td>2</td>\n",
       "    </tr>\n",
       "    <tr>\n",
       "      <th>4</th>\n",
       "      <td>5</td>\n",
       "      <td>1</td>\n",
       "      <td>0</td>\n",
       "      <td>0</td>\n",
       "      <td>388</td>\n",
       "      <td>2000</td>\n",
       "      <td>3</td>\n",
       "    </tr>\n",
       "    <tr>\n",
       "      <th>...</th>\n",
       "      <td>...</td>\n",
       "      <td>...</td>\n",
       "      <td>...</td>\n",
       "      <td>...</td>\n",
       "      <td>...</td>\n",
       "      <td>...</td>\n",
       "      <td>...</td>\n",
       "    </tr>\n",
       "    <tr>\n",
       "      <th>134</th>\n",
       "      <td>135</td>\n",
       "      <td>0</td>\n",
       "      <td>0</td>\n",
       "      <td>0</td>\n",
       "      <td>541</td>\n",
       "      <td>2011</td>\n",
       "      <td>1</td>\n",
       "    </tr>\n",
       "    <tr>\n",
       "      <th>135</th>\n",
       "      <td>136</td>\n",
       "      <td>1</td>\n",
       "      <td>0</td>\n",
       "      <td>0</td>\n",
       "      <td>457</td>\n",
       "      <td>2011</td>\n",
       "      <td>2</td>\n",
       "    </tr>\n",
       "    <tr>\n",
       "      <th>136</th>\n",
       "      <td>137</td>\n",
       "      <td>3</td>\n",
       "      <td>0</td>\n",
       "      <td>0</td>\n",
       "      <td>560</td>\n",
       "      <td>2011</td>\n",
       "      <td>3</td>\n",
       "    </tr>\n",
       "    <tr>\n",
       "      <th>137</th>\n",
       "      <td>138</td>\n",
       "      <td>1</td>\n",
       "      <td>0</td>\n",
       "      <td>0</td>\n",
       "      <td>514</td>\n",
       "      <td>2011</td>\n",
       "      <td>4</td>\n",
       "    </tr>\n",
       "    <tr>\n",
       "      <th>138</th>\n",
       "      <td>139</td>\n",
       "      <td>0</td>\n",
       "      <td>0</td>\n",
       "      <td>0</td>\n",
       "      <td>373</td>\n",
       "      <td>2011</td>\n",
       "      <td>5</td>\n",
       "    </tr>\n",
       "  </tbody>\n",
       "</table>\n",
       "<p>139 rows × 7 columns</p>\n",
       "</div>"
      ],
      "text/plain": [
       "     Unnamed: 0  Cardio  Resp  Hypo  Adm  year  month\n",
       "0             1       1     0     0  413  1999     11\n",
       "1             2       1     0     0  443  1999     12\n",
       "2             3       1     0     0  378  2000      1\n",
       "3             4       0     0     0  385  2000      2\n",
       "4             5       1     0     0  388  2000      3\n",
       "..          ...     ...   ...   ...  ...   ...    ...\n",
       "134         135       0     0     0  541  2011      1\n",
       "135         136       1     0     0  457  2011      2\n",
       "136         137       3     0     0  560  2011      3\n",
       "137         138       1     0     0  514  2011      4\n",
       "138         139       0     0     0  373  2011      5\n",
       "\n",
       "[139 rows x 7 columns]"
      ]
     },
     "execution_count": 6,
     "metadata": {},
     "output_type": "execute_result"
    }
   ],
   "source": [
    "csv_file"
   ]
  },
  {
   "cell_type": "code",
   "execution_count": 7,
   "id": "900e9048",
   "metadata": {},
   "outputs": [
    {
     "data": {
      "text/plain": [
       "Unnamed: 0    int64\n",
       "Cardio        int64\n",
       "Resp          int64\n",
       "Hypo          int64\n",
       "Adm           int64\n",
       "year          int64\n",
       "month         int64\n",
       "dtype: object"
      ]
     },
     "execution_count": 7,
     "metadata": {},
     "output_type": "execute_result"
    }
   ],
   "source": [
    "csv_file.dtypes"
   ]
  },
  {
   "cell_type": "code",
   "execution_count": 8,
   "id": "12d370b2",
   "metadata": {},
   "outputs": [],
   "source": [
    "def convert_to_period(x):\n",
    "    return datetime.strptime(x, \"%Y %m\")"
   ]
  },
  {
   "cell_type": "code",
   "execution_count": 9,
   "id": "2fa4ba60",
   "metadata": {},
   "outputs": [],
   "source": [
    "hp_df= pd.read_csv(\"HortonGeneralHospital.csv\", parse_dates=[[\"year\", \"month\"]], date_parser=convert_to_period, keep_date_col=True)"
   ]
  },
  {
   "cell_type": "code",
   "execution_count": 10,
   "id": "4b083760",
   "metadata": {},
   "outputs": [
    {
     "data": {
      "text/html": [
       "<div>\n",
       "<style scoped>\n",
       "    .dataframe tbody tr th:only-of-type {\n",
       "        vertical-align: middle;\n",
       "    }\n",
       "\n",
       "    .dataframe tbody tr th {\n",
       "        vertical-align: top;\n",
       "    }\n",
       "\n",
       "    .dataframe thead th {\n",
       "        text-align: right;\n",
       "    }\n",
       "</style>\n",
       "<table border=\"1\" class=\"dataframe\">\n",
       "  <thead>\n",
       "    <tr style=\"text-align: right;\">\n",
       "      <th></th>\n",
       "      <th>year_month</th>\n",
       "      <th>Unnamed: 0</th>\n",
       "      <th>Cardio</th>\n",
       "      <th>Resp</th>\n",
       "      <th>Hypo</th>\n",
       "      <th>Adm</th>\n",
       "      <th>year</th>\n",
       "      <th>month</th>\n",
       "    </tr>\n",
       "  </thead>\n",
       "  <tbody>\n",
       "    <tr>\n",
       "      <th>0</th>\n",
       "      <td>1999-11-01</td>\n",
       "      <td>1</td>\n",
       "      <td>1</td>\n",
       "      <td>0</td>\n",
       "      <td>0</td>\n",
       "      <td>413</td>\n",
       "      <td>1999</td>\n",
       "      <td>11</td>\n",
       "    </tr>\n",
       "    <tr>\n",
       "      <th>1</th>\n",
       "      <td>1999-12-01</td>\n",
       "      <td>2</td>\n",
       "      <td>1</td>\n",
       "      <td>0</td>\n",
       "      <td>0</td>\n",
       "      <td>443</td>\n",
       "      <td>1999</td>\n",
       "      <td>12</td>\n",
       "    </tr>\n",
       "    <tr>\n",
       "      <th>2</th>\n",
       "      <td>2000-01-01</td>\n",
       "      <td>3</td>\n",
       "      <td>1</td>\n",
       "      <td>0</td>\n",
       "      <td>0</td>\n",
       "      <td>378</td>\n",
       "      <td>2000</td>\n",
       "      <td>1</td>\n",
       "    </tr>\n",
       "    <tr>\n",
       "      <th>3</th>\n",
       "      <td>2000-02-01</td>\n",
       "      <td>4</td>\n",
       "      <td>0</td>\n",
       "      <td>0</td>\n",
       "      <td>0</td>\n",
       "      <td>385</td>\n",
       "      <td>2000</td>\n",
       "      <td>2</td>\n",
       "    </tr>\n",
       "    <tr>\n",
       "      <th>4</th>\n",
       "      <td>2000-03-01</td>\n",
       "      <td>5</td>\n",
       "      <td>1</td>\n",
       "      <td>0</td>\n",
       "      <td>0</td>\n",
       "      <td>388</td>\n",
       "      <td>2000</td>\n",
       "      <td>3</td>\n",
       "    </tr>\n",
       "    <tr>\n",
       "      <th>...</th>\n",
       "      <td>...</td>\n",
       "      <td>...</td>\n",
       "      <td>...</td>\n",
       "      <td>...</td>\n",
       "      <td>...</td>\n",
       "      <td>...</td>\n",
       "      <td>...</td>\n",
       "      <td>...</td>\n",
       "    </tr>\n",
       "    <tr>\n",
       "      <th>134</th>\n",
       "      <td>2011-01-01</td>\n",
       "      <td>135</td>\n",
       "      <td>0</td>\n",
       "      <td>0</td>\n",
       "      <td>0</td>\n",
       "      <td>541</td>\n",
       "      <td>2011</td>\n",
       "      <td>1</td>\n",
       "    </tr>\n",
       "    <tr>\n",
       "      <th>135</th>\n",
       "      <td>2011-02-01</td>\n",
       "      <td>136</td>\n",
       "      <td>1</td>\n",
       "      <td>0</td>\n",
       "      <td>0</td>\n",
       "      <td>457</td>\n",
       "      <td>2011</td>\n",
       "      <td>2</td>\n",
       "    </tr>\n",
       "    <tr>\n",
       "      <th>136</th>\n",
       "      <td>2011-03-01</td>\n",
       "      <td>137</td>\n",
       "      <td>3</td>\n",
       "      <td>0</td>\n",
       "      <td>0</td>\n",
       "      <td>560</td>\n",
       "      <td>2011</td>\n",
       "      <td>3</td>\n",
       "    </tr>\n",
       "    <tr>\n",
       "      <th>137</th>\n",
       "      <td>2011-04-01</td>\n",
       "      <td>138</td>\n",
       "      <td>1</td>\n",
       "      <td>0</td>\n",
       "      <td>0</td>\n",
       "      <td>514</td>\n",
       "      <td>2011</td>\n",
       "      <td>4</td>\n",
       "    </tr>\n",
       "    <tr>\n",
       "      <th>138</th>\n",
       "      <td>2011-05-01</td>\n",
       "      <td>139</td>\n",
       "      <td>0</td>\n",
       "      <td>0</td>\n",
       "      <td>0</td>\n",
       "      <td>373</td>\n",
       "      <td>2011</td>\n",
       "      <td>5</td>\n",
       "    </tr>\n",
       "  </tbody>\n",
       "</table>\n",
       "<p>139 rows × 8 columns</p>\n",
       "</div>"
      ],
      "text/plain": [
       "    year_month  Unnamed: 0  Cardio  Resp  Hypo  Adm  year month\n",
       "0   1999-11-01           1       1     0     0  413  1999    11\n",
       "1   1999-12-01           2       1     0     0  443  1999    12\n",
       "2   2000-01-01           3       1     0     0  378  2000     1\n",
       "3   2000-02-01           4       0     0     0  385  2000     2\n",
       "4   2000-03-01           5       1     0     0  388  2000     3\n",
       "..         ...         ...     ...   ...   ...  ...   ...   ...\n",
       "134 2011-01-01         135       0     0     0  541  2011     1\n",
       "135 2011-02-01         136       1     0     0  457  2011     2\n",
       "136 2011-03-01         137       3     0     0  560  2011     3\n",
       "137 2011-04-01         138       1     0     0  514  2011     4\n",
       "138 2011-05-01         139       0     0     0  373  2011     5\n",
       "\n",
       "[139 rows x 8 columns]"
      ]
     },
     "execution_count": 10,
     "metadata": {},
     "output_type": "execute_result"
    }
   ],
   "source": [
    "hp_df"
   ]
  },
  {
   "cell_type": "code",
   "execution_count": 11,
   "id": "98a370c0",
   "metadata": {},
   "outputs": [],
   "source": [
    "del hp_df[\"Unnamed: 0\"]"
   ]
  },
  {
   "cell_type": "code",
   "execution_count": 12,
   "id": "529fc0b2",
   "metadata": {
    "scrolled": true
   },
   "outputs": [
    {
     "data": {
      "text/plain": [
       "[<matplotlib.lines.Line2D at 0x22641f2c820>]"
      ]
     },
     "execution_count": 12,
     "metadata": {},
     "output_type": "execute_result"
    },
    {
     "data": {
      "image/png": "[encoded data removed]",
      "text/plain": [
       "<Figure size 432x288 with 1 Axes>"
      ]
     },
     "metadata": {
      "needs_background": "light"
     },
     "output_type": "display_data"
    }
   ],
   "source": [
    "import matplotlib.pyplot as plt\n",
    "plt.plot(hp_df[\"year_month\"],hp_df[\"Adm\"])"
   ]
  },
  {
   "cell_type": "code",
   "execution_count": 13,
   "id": "12787330",
   "metadata": {},
   "outputs": [
    {
     "data": {
      "text/plain": [
       "array([<AxesSubplot:xlabel='year_month'>,\n",
       "       <AxesSubplot:xlabel='year_month'>,\n",
       "       <AxesSubplot:xlabel='year_month'>,\n",
       "       <AxesSubplot:xlabel='year_month'>], dtype=object)"
      ]
     },
     "execution_count": 13,
     "metadata": {},
     "output_type": "execute_result"
    },
    {
     "data": {
      "image/png": "[encoded data removed]",
      "text/plain": [
       "<Figure size 432x288 with 4 Axes>"
      ]
     },
     "metadata": {
      "needs_background": "light"
     },
     "output_type": "display_data"
    }
   ],
   "source": [
    "hp_df.set_index(\"year_month\")[[\"Cardio\",\"Resp\",\"Hypo\",\"Adm\"]]. plot(subplots=True)"
   ]
  },
  {
   "cell_type": "code",
   "execution_count": 14,
   "id": "094f1915",
   "metadata": {},
   "outputs": [
    {
     "data": {
      "text/html": [
       "<div>\n",
       "<style scoped>\n",
       "    .dataframe tbody tr th:only-of-type {\n",
       "        vertical-align: middle;\n",
       "    }\n",
       "\n",
       "    .dataframe tbody tr th {\n",
       "        vertical-align: top;\n",
       "    }\n",
       "\n",
       "    .dataframe thead th {\n",
       "        text-align: right;\n",
       "    }\n",
       "</style>\n",
       "<table border=\"1\" class=\"dataframe\">\n",
       "  <thead>\n",
       "    <tr style=\"text-align: right;\">\n",
       "      <th></th>\n",
       "      <th>Cardio</th>\n",
       "      <th>Resp</th>\n",
       "      <th>Hypo</th>\n",
       "      <th>Adm</th>\n",
       "    </tr>\n",
       "  </thead>\n",
       "  <tbody>\n",
       "    <tr>\n",
       "      <th>count</th>\n",
       "      <td>139.000000</td>\n",
       "      <td>139.000000</td>\n",
       "      <td>139.000000</td>\n",
       "      <td>139.000000</td>\n",
       "    </tr>\n",
       "    <tr>\n",
       "      <th>mean</th>\n",
       "      <td>0.863309</td>\n",
       "      <td>0.251799</td>\n",
       "      <td>0.086331</td>\n",
       "      <td>534.985612</td>\n",
       "    </tr>\n",
       "    <tr>\n",
       "      <th>std</th>\n",
       "      <td>0.852970</td>\n",
       "      <td>0.565859</td>\n",
       "      <td>0.281868</td>\n",
       "      <td>73.129524</td>\n",
       "    </tr>\n",
       "    <tr>\n",
       "      <th>min</th>\n",
       "      <td>0.000000</td>\n",
       "      <td>0.000000</td>\n",
       "      <td>0.000000</td>\n",
       "      <td>373.000000</td>\n",
       "    </tr>\n",
       "    <tr>\n",
       "      <th>25%</th>\n",
       "      <td>0.000000</td>\n",
       "      <td>0.000000</td>\n",
       "      <td>0.000000</td>\n",
       "      <td>491.500000</td>\n",
       "    </tr>\n",
       "    <tr>\n",
       "      <th>50%</th>\n",
       "      <td>1.000000</td>\n",
       "      <td>0.000000</td>\n",
       "      <td>0.000000</td>\n",
       "      <td>539.000000</td>\n",
       "    </tr>\n",
       "    <tr>\n",
       "      <th>75%</th>\n",
       "      <td>1.000000</td>\n",
       "      <td>0.000000</td>\n",
       "      <td>0.000000</td>\n",
       "      <td>579.000000</td>\n",
       "    </tr>\n",
       "    <tr>\n",
       "      <th>max</th>\n",
       "      <td>3.000000</td>\n",
       "      <td>4.000000</td>\n",
       "      <td>1.000000</td>\n",
       "      <td>724.000000</td>\n",
       "    </tr>\n",
       "  </tbody>\n",
       "</table>\n",
       "</div>"
      ],
      "text/plain": [
       "           Cardio        Resp        Hypo         Adm\n",
       "count  139.000000  139.000000  139.000000  139.000000\n",
       "mean     0.863309    0.251799    0.086331  534.985612\n",
       "std      0.852970    0.565859    0.281868   73.129524\n",
       "min      0.000000    0.000000    0.000000  373.000000\n",
       "25%      0.000000    0.000000    0.000000  491.500000\n",
       "50%      1.000000    0.000000    0.000000  539.000000\n",
       "75%      1.000000    0.000000    0.000000  579.000000\n",
       "max      3.000000    4.000000    1.000000  724.000000"
      ]
     },
     "execution_count": 14,
     "metadata": {},
     "output_type": "execute_result"
    }
   ],
   "source": [
    "hp_df.describe()"
   ]
  },
  {
   "cell_type": "code",
   "execution_count": 15,
   "id": "a045d2c2",
   "metadata": {},
   "outputs": [],
   "source": [
    "hp_input=hp_df[[\"Adm\"]]"
   ]
  },
  {
   "cell_type": "code",
   "execution_count": 16,
   "id": "f4d90e62",
   "metadata": {},
   "outputs": [],
   "source": [
    "scaler=MinMaxScaler()\n",
    "data_scaled= scaler.fit_transform(hp_input)"
   ]
  },
  {
   "cell_type": "code",
   "execution_count": 17,
   "id": "18260442",
   "metadata": {},
   "outputs": [
    {
     "data": {
      "text/plain": [
       "array([[0.11396011],\n",
       "       [0.1994302 ],\n",
       "       [0.01424501],\n",
       "       [0.03418803],\n",
       "       [0.04273504],\n",
       "       [0.09401709],\n",
       "       [0.1025641 ],\n",
       "       [0.14814815],\n",
       "       [0.22792023],\n",
       "       [0.10826211],\n",
       "       [0.0968661 ],\n",
       "       [0.12535613],\n",
       "       [0.13960114],\n",
       "       [0.15099715],\n",
       "       [0.15384615],\n",
       "       [0.10541311],\n",
       "       [0.21937322],\n",
       "       [0.21652422],\n",
       "       [0.18518519],\n",
       "       [0.20797721],\n",
       "       [0.24786325],\n",
       "       [0.18233618],\n",
       "       [0.29059829],\n",
       "       [0.25925926],\n",
       "       [0.26780627],\n",
       "       [0.35897436],\n",
       "       [0.24501425],\n",
       "       [0.25071225],\n",
       "       [0.32763533],\n",
       "       [0.32193732],\n",
       "       [0.4045584 ],\n",
       "       [0.23931624],\n",
       "       [0.52706553],\n",
       "       [0.41595442],\n",
       "       [0.38746439],\n",
       "       [0.41595442],\n",
       "       [0.48717949],\n",
       "       [0.45299145],\n",
       "       [0.38746439],\n",
       "       [0.45299145],\n",
       "       [0.64102564],\n",
       "       [0.34757835],\n",
       "       [0.48433048],\n",
       "       [0.51851852],\n",
       "       [0.51282051],\n",
       "       [0.45299145],\n",
       "       [0.58689459],\n",
       "       [0.74074074],\n",
       "       [0.70940171],\n",
       "       [0.77207977],\n",
       "       [0.71509972],\n",
       "       [0.51282051],\n",
       "       [0.72649573],\n",
       "       [0.84900285],\n",
       "       [0.96866097],\n",
       "       [0.88603989],\n",
       "       [1.        ],\n",
       "       [0.8034188 ],\n",
       "       [0.97150997],\n",
       "       [0.82905983],\n",
       "       [0.61538462],\n",
       "       [0.55270655],\n",
       "       [0.6951567 ],\n",
       "       [0.48148148],\n",
       "       [0.54700855],\n",
       "       [0.62393162],\n",
       "       [0.74643875],\n",
       "       [0.55270655],\n",
       "       [0.64102564],\n",
       "       [0.4017094 ],\n",
       "       [0.50712251],\n",
       "       [0.68376068],\n",
       "       [0.35897436],\n",
       "       [0.46723647],\n",
       "       [0.45584046],\n",
       "       [0.33333333],\n",
       "       [0.55270655],\n",
       "       [0.47008547],\n",
       "       [0.37891738],\n",
       "       [0.44444444],\n",
       "       [0.4985755 ],\n",
       "       [0.54415954],\n",
       "       [0.42450142],\n",
       "       [0.46723647],\n",
       "       [0.52991453],\n",
       "       [0.58689459],\n",
       "       [0.53276353],\n",
       "       [0.34188034],\n",
       "       [0.56125356],\n",
       "       [0.41595442],\n",
       "       [0.3960114 ],\n",
       "       [0.47293447],\n",
       "       [0.52136752],\n",
       "       [0.45299145],\n",
       "       [0.47293447],\n",
       "       [0.62678063],\n",
       "       [0.50712251],\n",
       "       [0.52991453],\n",
       "       [0.3048433 ],\n",
       "       [0.28774929],\n",
       "       [0.42735043],\n",
       "       [0.39031339],\n",
       "       [0.37037037],\n",
       "       [0.35612536],\n",
       "       [0.45299145],\n",
       "       [0.44729345],\n",
       "       [0.5042735 ],\n",
       "       [0.53561254],\n",
       "       [0.5042735 ],\n",
       "       [0.75213675],\n",
       "       [0.65527066],\n",
       "       [0.41880342],\n",
       "       [0.71509972],\n",
       "       [0.63532764],\n",
       "       [0.80626781],\n",
       "       [0.52706553],\n",
       "       [0.54985755],\n",
       "       [0.47863248],\n",
       "       [0.58689459],\n",
       "       [0.69230769],\n",
       "       [0.46723647],\n",
       "       [0.67236467],\n",
       "       [0.56695157],\n",
       "       [0.4045584 ],\n",
       "       [0.56410256],\n",
       "       [0.47578348],\n",
       "       [0.67236467],\n",
       "       [0.5982906 ],\n",
       "       [0.57549858],\n",
       "       [0.64957265],\n",
       "       [0.51282051],\n",
       "       [0.58689459],\n",
       "       [0.65811966],\n",
       "       [0.66096866],\n",
       "       [0.47863248],\n",
       "       [0.23931624],\n",
       "       [0.53276353],\n",
       "       [0.4017094 ],\n",
       "       [0.        ]])"
      ]
     },
     "execution_count": 17,
     "metadata": {},
     "output_type": "execute_result"
    }
   ],
   "source": [
    "data_scaled"
   ]
  },
  {
   "cell_type": "code",
   "execution_count": 18,
   "id": "edc7ef9e",
   "metadata": {},
   "outputs": [],
   "source": [
    "training_size=int(len(data_scaled)*0.65)\n",
    "test_size=len(data_scaled)-training_size\n",
    "train_data,test_data=data_scaled[0:training_size,:],data_scaled[training_size:len(data_scaled),:1]"
   ]
  },
  {
   "cell_type": "code",
   "execution_count": 19,
   "id": "23cea89d",
   "metadata": {},
   "outputs": [
    {
     "data": {
      "text/plain": [
       "(90, 49)"
      ]
     },
     "execution_count": 19,
     "metadata": {},
     "output_type": "execute_result"
    }
   ],
   "source": [
    "training_size,test_size"
   ]
  },
  {
   "cell_type": "code",
   "execution_count": 20,
   "id": "86a1469d",
   "metadata": {
    "scrolled": true
   },
   "outputs": [
    {
     "data": {
      "text/plain": [
       "array([[512.],\n",
       "       [539.],\n",
       "       [556.],\n",
       "       [532.],\n",
       "       [539.],\n",
       "       [593.],\n",
       "       [551.],\n",
       "       [559.],\n",
       "       [480.],\n",
       "       [474.],\n",
       "       [523.],\n",
       "       [510.],\n",
       "       [503.],\n",
       "       [498.],\n",
       "       [532.],\n",
       "       [530.],\n",
       "       [550.],\n",
       "       [561.],\n",
       "       [550.],\n",
       "       [637.],\n",
       "       [603.],\n",
       "       [520.],\n",
       "       [624.],\n",
       "       [596.],\n",
       "       [656.],\n",
       "       [558.],\n",
       "       [566.],\n",
       "       [541.],\n",
       "       [579.],\n",
       "       [616.],\n",
       "       [537.],\n",
       "       [609.],\n",
       "       [572.],\n",
       "       [515.],\n",
       "       [571.],\n",
       "       [540.],\n",
       "       [609.],\n",
       "       [583.],\n",
       "       [575.],\n",
       "       [601.],\n",
       "       [553.],\n",
       "       [579.],\n",
       "       [604.],\n",
       "       [605.],\n",
       "       [541.],\n",
       "       [457.],\n",
       "       [560.],\n",
       "       [514.],\n",
       "       [373.]])"
      ]
     },
     "execution_count": 20,
     "metadata": {},
     "output_type": "execute_result"
    }
   ],
   "source": [
    "scaler.inverse_transform(test_data)"
   ]
  },
  {
   "cell_type": "code",
   "execution_count": 21,
   "id": "c184b9ba",
   "metadata": {},
   "outputs": [],
   "source": [
    "import numpy as np\n",
    "def prepare_dataset(dataset, time_step=1):\n",
    "    x, y = [], []\n",
    "    for i in range(len(dataset)-time_step-1):\n",
    "        a = dataset[i:(i+time_step), 0]\n",
    "        x.append(a)\n",
    "        y.append(dataset[i + time_step, 0])\n",
    "    return np.array(x), np.array(y)"
   ]
  },
  {
   "cell_type": "code",
   "execution_count": 22,
   "id": "5e58d11c",
   "metadata": {},
   "outputs": [],
   "source": [
    "time_step = 3\n",
    "x_train, y_train = prepare_dataset(train_data, time_step)\n",
    "x_test, y_test = prepare_dataset(test_data, time_step)"
   ]
  },
  {
   "cell_type": "code",
   "execution_count": 23,
   "id": "2d7cd504",
   "metadata": {},
   "outputs": [
    {
     "data": {
      "text/plain": [
       "((45, 3), (86, 3), (86,), (45,))"
      ]
     },
     "execution_count": 23,
     "metadata": {},
     "output_type": "execute_result"
    }
   ],
   "source": [
    "x_test.shape, x_train.shape, y_train.shape, y_test.shape"
   ]
  },
  {
   "cell_type": "code",
   "execution_count": 24,
   "id": "1804154d",
   "metadata": {},
   "outputs": [],
   "source": [
    "x_train =x_train.reshape(x_train.shape[0],x_train.shape[1] , 1)\n",
    "x_test = x_test.reshape(x_test.shape[0],x_test.shape[1] , 1)"
   ]
  },
  {
   "cell_type": "code",
   "execution_count": 25,
   "id": "900bd1c9",
   "metadata": {},
   "outputs": [
    {
     "name": "stdout",
     "output_type": "stream",
     "text": [
      "INFO:tensorflow:Enabling eager execution\n",
      "INFO:tensorflow:Enabling v2 tensorshape\n",
      "INFO:tensorflow:Enabling resource variables\n",
      "INFO:tensorflow:Enabling tensor equality\n",
      "INFO:tensorflow:Enabling control flow v2\n"
     ]
    }
   ],
   "source": [
    "from tensorflow.keras.models import Sequential\n",
    "from tensorflow.keras.layers import LSTM\n",
    "from tensorflow.keras.layers import Dense\n",
    "from tensorflow.keras.layers import Flatten"
   ]
  },
  {
   "cell_type": "code",
   "execution_count": 26,
   "id": "7ff1b5c8",
   "metadata": {},
   "outputs": [],
   "source": [
    "model = Sequential()\n",
    "model.add(LSTM(50, activation=\"relu\",input_shape= (3,1), return_sequences=True))\n",
    "model.add(LSTM(50,activation=\"relu\", return_sequences=True))\n",
    "model.add(LSTM(50)) \n",
    "model.add(Dense(1))"
   ]
  },
  {
   "cell_type": "code",
   "execution_count": 27,
   "id": "e751c8e4",
   "metadata": {},
   "outputs": [
    {
     "name": "stdout",
     "output_type": "stream",
     "text": [
      "Model: \"sequential\"\n",
      "_________________________________________________________________\n",
      "Layer (type)                 Output Shape              Param #   \n",
      "=================================================================\n",
      "lstm (LSTM)                  (None, 3, 50)             10400     \n",
      "_________________________________________________________________\n",
      "lstm_1 (LSTM)                (None, 3, 50)             20200     \n",
      "_________________________________________________________________\n",
      "lstm_2 (LSTM)                (None, 50)                20200     \n",
      "_________________________________________________________________\n",
      "dense (Dense)                (None, 1)                 51        \n",
      "=================================================================\n",
      "Total params: 50,851\n",
      "Trainable params: 50,851\n",
      "Non-trainable params: 0\n",
      "_________________________________________________________________\n"
     ]
    }
   ],
   "source": [
    "model.summary()"
   ]
  },
  {
   "cell_type": "code",
   "execution_count": 28,
   "id": "15884613",
   "metadata": {},
   "outputs": [],
   "source": [
    "model.compile(loss='mean_squared_error',optimizer='adam')"
   ]
  },
  {
   "cell_type": "code",
   "execution_count": 29,
   "id": "ae7d6036",
   "metadata": {},
   "outputs": [
    {
     "name": "stdout",
     "output_type": "stream",
     "text": [
      "Epoch 1/50\n",
      "5/5 [==============================] - 5s 204ms/step - loss: 0.2508 - val_loss: 0.2510\n",
      "Epoch 2/50\n",
      "5/5 [==============================] - 0s 12ms/step - loss: 0.2103 - val_loss: 0.2042\n",
      "Epoch 3/50\n",
      "5/5 [==============================] - 0s 11ms/step - loss: 0.1684 - val_loss: 0.1505\n",
      "Epoch 4/50\n",
      "5/5 [==============================] - 0s 11ms/step - loss: 0.1328 - val_loss: 0.0916\n",
      "Epoch 5/50\n",
      "5/5 [==============================] - 0s 12ms/step - loss: 0.0766 - val_loss: 0.0381\n",
      "Epoch 6/50\n",
      "5/5 [==============================] - 0s 12ms/step - loss: 0.0405 - val_loss: 0.0141\n",
      "Epoch 7/50\n",
      "5/5 [==============================] - 0s 10ms/step - loss: 0.0380 - val_loss: 0.0180\n",
      "Epoch 8/50\n",
      "5/5 [==============================] - 0s 11ms/step - loss: 0.0410 - val_loss: 0.0151\n",
      "Epoch 9/50\n",
      "5/5 [==============================] - 0s 12ms/step - loss: 0.0362 - val_loss: 0.0159\n",
      "Epoch 10/50\n",
      "5/5 [==============================] - 0s 12ms/step - loss: 0.0288 - val_loss: 0.0213\n",
      "Epoch 11/50\n",
      "5/5 [==============================] - 0s 11ms/step - loss: 0.0298 - val_loss: 0.0185\n",
      "Epoch 12/50\n",
      "5/5 [==============================] - 0s 11ms/step - loss: 0.0278 - val_loss: 0.0138\n",
      "Epoch 13/50\n",
      "5/5 [==============================] - 0s 12ms/step - loss: 0.0276 - val_loss: 0.0142\n",
      "Epoch 14/50\n",
      "5/5 [==============================] - 0s 11ms/step - loss: 0.0216 - val_loss: 0.0140\n",
      "Epoch 15/50\n",
      "5/5 [==============================] - 0s 11ms/step - loss: 0.0208 - val_loss: 0.0153\n",
      "Epoch 16/50\n",
      "5/5 [==============================] - 0s 11ms/step - loss: 0.0182 - val_loss: 0.0150\n",
      "Epoch 17/50\n",
      "5/5 [==============================] - 0s 11ms/step - loss: 0.0149 - val_loss: 0.0158\n",
      "Epoch 18/50\n",
      "5/5 [==============================] - 0s 11ms/step - loss: 0.0135 - val_loss: 0.0161\n",
      "Epoch 19/50\n",
      "5/5 [==============================] - 0s 12ms/step - loss: 0.0165 - val_loss: 0.0174\n",
      "Epoch 20/50\n",
      "5/5 [==============================] - 0s 12ms/step - loss: 0.0164 - val_loss: 0.0164\n",
      "Epoch 21/50\n",
      "5/5 [==============================] - 0s 14ms/step - loss: 0.0136 - val_loss: 0.0165\n",
      "Epoch 22/50\n",
      "5/5 [==============================] - 0s 12ms/step - loss: 0.0137 - val_loss: 0.0162\n",
      "Epoch 23/50\n",
      "5/5 [==============================] - 0s 12ms/step - loss: 0.0118 - val_loss: 0.0158\n",
      "Epoch 24/50\n",
      "5/5 [==============================] - 0s 12ms/step - loss: 0.0110 - val_loss: 0.0157\n",
      "Epoch 25/50\n",
      "5/5 [==============================] - 0s 11ms/step - loss: 0.0120 - val_loss: 0.0153\n",
      "Epoch 26/50\n",
      "5/5 [==============================] - 0s 11ms/step - loss: 0.0111 - val_loss: 0.0155\n",
      "Epoch 27/50\n",
      "5/5 [==============================] - 0s 12ms/step - loss: 0.0146 - val_loss: 0.0160\n",
      "Epoch 28/50\n",
      "5/5 [==============================] - 0s 11ms/step - loss: 0.0133 - val_loss: 0.0150\n",
      "Epoch 29/50\n",
      "5/5 [==============================] - 0s 11ms/step - loss: 0.0130 - val_loss: 0.0158\n",
      "Epoch 30/50\n",
      "5/5 [==============================] - 0s 11ms/step - loss: 0.0136 - val_loss: 0.0150\n",
      "Epoch 31/50\n",
      "5/5 [==============================] - 0s 12ms/step - loss: 0.0118 - val_loss: 0.0152\n",
      "Epoch 32/50\n",
      "5/5 [==============================] - 0s 12ms/step - loss: 0.0104 - val_loss: 0.0150\n",
      "Epoch 33/50\n",
      "5/5 [==============================] - 0s 12ms/step - loss: 0.0125 - val_loss: 0.0165\n",
      "Epoch 34/50\n",
      "5/5 [==============================] - 0s 11ms/step - loss: 0.0123 - val_loss: 0.0149\n",
      "Epoch 35/50\n",
      "5/5 [==============================] - 0s 11ms/step - loss: 0.0109 - val_loss: 0.0155\n",
      "Epoch 36/50\n",
      "5/5 [==============================] - 0s 12ms/step - loss: 0.0139 - val_loss: 0.0149\n",
      "Epoch 37/50\n",
      "5/5 [==============================] - 0s 10ms/step - loss: 0.0133 - val_loss: 0.0155\n",
      "Epoch 38/50\n",
      "5/5 [==============================] - 0s 11ms/step - loss: 0.0134 - val_loss: 0.0149\n",
      "Epoch 39/50\n",
      "5/5 [==============================] - 0s 10ms/step - loss: 0.0135 - val_loss: 0.0148\n",
      "Epoch 40/50\n",
      "5/5 [==============================] - 0s 11ms/step - loss: 0.0127 - val_loss: 0.0150\n",
      "Epoch 41/50\n",
      "5/5 [==============================] - 0s 11ms/step - loss: 0.0126 - val_loss: 0.0152\n",
      "Epoch 42/50\n",
      "5/5 [==============================] - 0s 10ms/step - loss: 0.0120 - val_loss: 0.0152\n",
      "Epoch 43/50\n",
      "5/5 [==============================] - 0s 10ms/step - loss: 0.0118 - val_loss: 0.0151\n",
      "Epoch 44/50\n",
      "5/5 [==============================] - 0s 10ms/step - loss: 0.0098 - val_loss: 0.0146\n",
      "Epoch 45/50\n",
      "5/5 [==============================] - 0s 10ms/step - loss: 0.0128 - val_loss: 0.0146\n",
      "Epoch 46/50\n",
      "5/5 [==============================] - 0s 10ms/step - loss: 0.0121 - val_loss: 0.0145\n",
      "Epoch 47/50\n",
      "5/5 [==============================] - 0s 11ms/step - loss: 0.0113 - val_loss: 0.0145\n",
      "Epoch 48/50\n",
      "5/5 [==============================] - 0s 10ms/step - loss: 0.0119 - val_loss: 0.0149\n",
      "Epoch 49/50\n",
      "5/5 [==============================] - 0s 10ms/step - loss: 0.0126 - val_loss: 0.0148\n",
      "Epoch 50/50\n",
      "5/5 [==============================] - 0s 10ms/step - loss: 0.0111 - val_loss: 0.0148\n"
     ]
    },
    {
     "data": {
      "text/plain": [
       "<tensorflow.python.keras.callbacks.History at 0x2264ab62490>"
      ]
     },
     "execution_count": 29,
     "metadata": {},
     "output_type": "execute_result"
    }
   ],
   "source": [
    "model.fit(x_train,y_train,validation_data=(x_test,y_test),epochs=50,batch_size=20,verbose=1)"
   ]
  },
  {
   "cell_type": "code",
   "execution_count": 30,
   "id": "7455d5a5",
   "metadata": {},
   "outputs": [],
   "source": [
    "import tensorflow as tf"
   ]
  },
  {
   "cell_type": "code",
   "execution_count": 31,
   "id": "a3389a3d",
   "metadata": {},
   "outputs": [],
   "source": [
    "train_predict=model.predict(x_train)\n",
    "test_predict=model.predict(x_test)"
   ]
  },
  {
   "cell_type": "code",
   "execution_count": 32,
   "id": "284b4996",
   "metadata": {
    "scrolled": true
   },
   "outputs": [
    {
     "data": {
      "text/plain": [
       "86"
      ]
     },
     "execution_count": 32,
     "metadata": {},
     "output_type": "execute_result"
    }
   ],
   "source": [
    "len(train_predict)"
   ]
  },
  {
   "cell_type": "code",
   "execution_count": 33,
   "id": "718d2e88",
   "metadata": {},
   "outputs": [
    {
     "data": {
      "text/plain": [
       "0.10563544007933029"
      ]
     },
     "execution_count": 33,
     "metadata": {},
     "output_type": "execute_result"
    }
   ],
   "source": [
    "import math\n",
    "from sklearn.metrics import mean_squared_error\n",
    "math.sqrt(mean_squared_error(y_train,train_predict))"
   ]
  },
  {
   "cell_type": "code",
   "execution_count": 34,
   "id": "7b644874",
   "metadata": {},
   "outputs": [
    {
     "data": {
      "text/plain": [
       "0.1216860503131852"
      ]
     },
     "execution_count": 34,
     "metadata": {},
     "output_type": "execute_result"
    }
   ],
   "source": [
    "math.sqrt(mean_squared_error(y_test,test_predict))"
   ]
  },
  {
   "cell_type": "code",
   "execution_count": 35,
   "id": "e2cdf298",
   "metadata": {},
   "outputs": [
    {
     "data": {
      "image/png": "[encoded data removed]",
      "text/plain": [
       "<Figure size 720x576 with 1 Axes>"
      ]
     },
     "metadata": {
      "needs_background": "light"
     },
     "output_type": "display_data"
    }
   ],
   "source": [
    "import numpy\n",
    "look_back=3\n",
    "trainPredictPlot = numpy.empty_like(data_scaled)\n",
    "trainPredictPlot[:, :] = np.nan\n",
    "trainPredictPlot[look_back:len(train_predict)+look_back, :] = train_predict\n",
    "# shift test predictions for plotting\n",
    "testPredictPlot = numpy.empty_like(data_scaled)\n",
    "testPredictPlot[:, :] = numpy.nan\n",
    "testPredictPlot[len(train_predict)+(look_back*2)+1:len(data_scaled)-1, :] = test_predict\n",
    "# plot baseline and predictions\n",
    "fig=plt.figure(figsize=(10,8))\n",
    "fig=plt.plot(scaler.inverse_transform(data_scaled))\n",
    "fig=plt.plot(scaler.inverse_transform(trainPredictPlot))\n",
    "fig=plt.plot(scaler.inverse_transform(testPredictPlot))\n",
    "plt.show()"
   ]
  },
  {
   "cell_type": "code",
   "execution_count": 36,
   "id": "c2250bcb",
   "metadata": {},
   "outputs": [
    {
     "data": {
      "text/plain": [
       "array([[         nan],\n",
       "       [         nan],\n",
       "       [         nan],\n",
       "       [422.47623576],\n",
       "       [422.78400275],\n",
       "       [397.38385869],\n",
       "       [400.3885501 ],\n",
       "       [404.45864993],\n",
       "       [413.68411226],\n",
       "       [421.94317327],\n",
       "       [435.32762451],\n",
       "       [438.91803192],\n",
       "       [415.01951962],\n",
       "       [415.93358125],\n",
       "       [422.84011349],\n",
       "       [426.85111608],\n",
       "       [427.81768215],\n",
       "       [427.41700397],\n",
       "       [429.46128015],\n",
       "       [452.83563456],\n",
       "       [449.40596497],\n",
       "       [446.67522138],\n",
       "       [453.87341127],\n",
       "       [459.67044882],\n",
       "       [456.39873452],\n",
       "       [478.15912062],\n",
       "       [475.81158075],\n",
       "       [484.32508838],\n",
       "       [492.0493426 ],\n",
       "       [468.94756567],\n",
       "       [479.67310637],\n",
       "       [500.72807565],\n",
       "       [502.90975201],\n",
       "       [513.13784862],\n",
       "       [504.30043849],\n",
       "       [548.86026359],\n",
       "       [528.38621411],\n",
       "       [527.22183257],\n",
       "       [537.75104845],\n",
       "       [546.68514603],\n",
       "       [537.19230515],\n",
       "       [534.96155804],\n",
       "       [554.08264202],\n",
       "       [559.62810701],\n",
       "       [525.82541367],\n",
       "       [555.48289996],\n",
       "       [557.79383814],\n",
       "       [556.32629752],\n",
       "       [562.77409518],\n",
       "       [593.72531897],\n",
       "       [614.80760092],\n",
       "       [613.33114785],\n",
       "       [609.84493864],\n",
       "       [591.52932203],\n",
       "       [587.53949696],\n",
       "       [632.41980392],\n",
       "       [658.8089233 ],\n",
       "       [675.26709032],\n",
       "       [663.99682355],\n",
       "       [671.13177902],\n",
       "       [649.42865956],\n",
       "       [653.4150117 ],\n",
       "       [610.05392081],\n",
       "       [581.26722842],\n",
       "       [577.65331602],\n",
       "       [579.87701267],\n",
       "       [561.01104218],\n",
       "       [580.68670613],\n",
       "       [593.43422097],\n",
       "       [596.22831404],\n",
       "       [571.02249944],\n",
       "       [564.98477882],\n",
       "       [543.58633524],\n",
       "       [566.72136647],\n",
       "       [565.23761189],\n",
       "       [524.8602441 ],\n",
       "       [541.9930371 ],\n",
       "       [535.77591693],\n",
       "       [526.93914491],\n",
       "       [556.06319213],\n",
       "       [539.63651156],\n",
       "       [528.26958871],\n",
       "       [547.2536177 ],\n",
       "       [556.87857616],\n",
       "       [554.06190908],\n",
       "       [540.21871802],\n",
       "       [555.90885621],\n",
       "       [568.09639341],\n",
       "       [564.24347687],\n",
       "       [         nan],\n",
       "       [         nan],\n",
       "       [         nan],\n",
       "       [         nan],\n",
       "       [         nan],\n",
       "       [         nan],\n",
       "       [         nan],\n",
       "       [         nan],\n",
       "       [         nan],\n",
       "       [         nan],\n",
       "       [         nan],\n",
       "       [         nan],\n",
       "       [         nan],\n",
       "       [         nan],\n",
       "       [         nan],\n",
       "       [         nan],\n",
       "       [         nan],\n",
       "       [         nan],\n",
       "       [         nan],\n",
       "       [         nan],\n",
       "       [         nan],\n",
       "       [         nan],\n",
       "       [         nan],\n",
       "       [         nan],\n",
       "       [         nan],\n",
       "       [         nan],\n",
       "       [         nan],\n",
       "       [         nan],\n",
       "       [         nan],\n",
       "       [         nan],\n",
       "       [         nan],\n",
       "       [         nan],\n",
       "       [         nan],\n",
       "       [         nan],\n",
       "       [         nan],\n",
       "       [         nan],\n",
       "       [         nan],\n",
       "       [         nan],\n",
       "       [         nan],\n",
       "       [         nan],\n",
       "       [         nan],\n",
       "       [         nan],\n",
       "       [         nan],\n",
       "       [         nan],\n",
       "       [         nan],\n",
       "       [         nan],\n",
       "       [         nan],\n",
       "       [         nan],\n",
       "       [         nan],\n",
       "       [         nan]])"
      ]
     },
     "execution_count": 36,
     "metadata": {},
     "output_type": "execute_result"
    }
   ],
   "source": [
    "scaler.inverse_transform(trainPredictPlot)"
   ]
  },
  {
   "cell_type": "code",
   "execution_count": 37,
   "id": "6b7624ef",
   "metadata": {},
   "outputs": [
    {
     "data": {
      "text/plain": [
       "49"
      ]
     },
     "execution_count": 37,
     "metadata": {},
     "output_type": "execute_result"
    }
   ],
   "source": [
    "len(test_data)"
   ]
  },
  {
   "cell_type": "code",
   "execution_count": 106,
   "id": "9e830838",
   "metadata": {},
   "outputs": [
    {
     "data": {
      "text/plain": [
       "array([[0.23931624, 0.53276353, 0.4017094 ]])"
      ]
     },
     "execution_count": 106,
     "metadata": {},
     "output_type": "execute_result"
    }
   ],
   "source": [
    "from numpy import array\n",
    "x_input=array(test_data[45:-1].reshape(1,-1))\n",
    "x_input"
   ]
  },
  {
   "cell_type": "code",
   "execution_count": 107,
   "id": "3940f6b3",
   "metadata": {},
   "outputs": [],
   "source": [
    "temp_input=list(x_input)\n",
    "temp_input=temp_input[0].tolist()"
   ]
  },
  {
   "cell_type": "code",
   "execution_count": 108,
   "id": "4e620262",
   "metadata": {},
   "outputs": [
    {
     "data": {
      "text/plain": [
       "[0.23931623931623935, 0.5327635327635327, 0.4017094017094016]"
      ]
     },
     "execution_count": 108,
     "metadata": {},
     "output_type": "execute_result"
    }
   ],
   "source": [
    "(temp_input)"
   ]
  },
  {
   "cell_type": "code",
   "execution_count": 109,
   "id": "b6ed1033",
   "metadata": {
    "scrolled": false
   },
   "outputs": [
    {
     "name": "stdout",
     "output_type": "stream",
     "text": [
      "[0.37441146]\n",
      "1 day input [0.53276353 0.4017094  0.37441146]\n",
      "1 day output [[0.4984762]]\n",
      "2 day input [0.4017094  0.37441146 0.49847621]\n",
      "2 day output [[0.43734834]]\n",
      "3 day input [0.37441146 0.49847621 0.43734834]\n",
      "3 day output [[0.4468855]]\n",
      "4 day input [0.49847621 0.43734834 0.4468855 ]\n",
      "4 day output [[0.50085485]]\n",
      "5 day input [0.43734834 0.4468855  0.50085485]\n",
      "5 day output [[0.47663534]]\n",
      "6 day input [0.4468855  0.50085485 0.47663534]\n",
      "6 day output [[0.49245885]]\n",
      "7 day input [0.50085485 0.47663534 0.49245885]\n",
      "7 day output [[0.51488656]]\n",
      "8 day input [0.47663534 0.49245885 0.51488656]\n",
      "8 day output [[0.5104747]]\n",
      "9 day input [0.49245885 0.51488656 0.51047468]\n",
      "9 day output [[0.5222498]]\n",
      "[0.37441146, 0.4984762, 0.43734834, 0.4468855, 0.50085485, 0.47663534, 0.49245885, 0.51488656, 0.5104747, 0.5222498]\n"
     ]
    }
   ],
   "source": [
    "from numpy import array\n",
    "\n",
    "lst_output=[]\n",
    "i=0\n",
    "while(i<10):\n",
    "    \n",
    "    if(len(temp_input)>3):\n",
    "        x_input=np.array(temp_input[1:])\n",
    "        print(\"{} day input {}\".format(i,x_input))\n",
    "        x_input=x_input.reshape((1,3,1))\n",
    "        #print(x_input)\n",
    "        yhat = model.predict(x_input, verbose=0)\n",
    "        print(\"{} day output {}\".format(i,yhat))\n",
    "        temp_input.append(yhat[0][0].tolist())\n",
    "        temp_input=temp_input[1:]\n",
    "        #print(temp_input)\n",
    "        lst_output.append(yhat[0][0])\n",
    "        i=i+1\n",
    "    else:\n",
    "        x_input = x_input.reshape((1,3,1))\n",
    "        yhat = model.predict(x_input, verbose=0)\n",
    "        print(yhat[0])\n",
    "        temp_input.append(yhat[0][0])\n",
    "        lst_output.append(yhat[0][0])\n",
    "        i=i+1\n",
    "    \n",
    "\n",
    "print(lst_output)"
   ]
  },
  {
   "cell_type": "code",
   "execution_count": 110,
   "id": "3ca9984b",
   "metadata": {},
   "outputs": [],
   "source": [
    "lst=array(lst_output).reshape(-1,1)"
   ]
  },
  {
   "cell_type": "code",
   "execution_count": 111,
   "id": "ee362416",
   "metadata": {},
   "outputs": [
    {
     "data": {
      "text/plain": [
       "array([[504.41843],\n",
       "       [547.96515],\n",
       "       [526.5093 ],\n",
       "       [529.8568 ],\n",
       "       [548.80005],\n",
       "       [540.299  ],\n",
       "       [545.8531 ],\n",
       "       [553.72516],\n",
       "       [552.17664],\n",
       "       [556.3097 ]], dtype=float32)"
      ]
     },
     "execution_count": 111,
     "metadata": {},
     "output_type": "execute_result"
    }
   ],
   "source": [
    "scaler.inverse_transform(lst)"
   ]
  },
  {
   "cell_type": "code",
   "execution_count": 114,
   "id": "feae53b2",
   "metadata": {},
   "outputs": [],
   "source": [
    "day_new=np.arange(1,50)\n",
    "day_pred=np.arange(50,60)"
   ]
  },
  {
   "cell_type": "code",
   "execution_count": 120,
   "id": "3e736450",
   "metadata": {},
   "outputs": [
    {
     "data": {
      "text/plain": [
       "[<matplotlib.lines.Line2D at 0x22656582550>]"
      ]
     },
     "execution_count": 120,
     "metadata": {},
     "output_type": "execute_result"
    },
    {
     "data": {
      "image/png": "[encoded data removed]",
      "text/plain": [
       "<Figure size 432x288 with 1 Axes>"
      ]
     },
     "metadata": {
      "needs_background": "light"
     },
     "output_type": "display_data"
    }
   ],
   "source": [
    "plt.plot(day_new,data_scaled[90:])\n",
    "plt.plot(day_pred,lst)"
   ]
  },
  {
   "cell_type": "code",
   "execution_count": 122,
   "id": "ed9457b6",
   "metadata": {},
   "outputs": [
    {
     "data": {
      "text/plain": [
       "[<matplotlib.lines.Line2D at 0x2265665a580>]"
      ]
     },
     "execution_count": 122,
     "metadata": {},
     "output_type": "execute_result"
    },
    {
     "data": {
      "image/png": "[encoded data removed]",
      "text/plain": [
       "<Figure size 432x288 with 1 Axes>"
      ]
     },
     "metadata": {
      "needs_background": "light"
     },
     "output_type": "display_data"
    }
   ],
   "source": [
    "df4=data_scaled.tolist()\n",
    "df4.extend(lst)\n",
    "plt.plot(df4[139:])"
   ]
  },
  {
   "cell_type": "code",
   "execution_count": 124,
   "id": "a6153fb5",
   "metadata": {},
   "outputs": [],
   "source": [
    "df4=scaler.inverse_transform(df4).tolist()"
   ]
  },
  {
   "cell_type": "code",
   "execution_count": 125,
   "id": "0010cbf1",
   "metadata": {},
   "outputs": [
    {
     "data": {
      "text/plain": [
       "[[145335.99999999997],\n",
       " [155866.0],\n",
       " [133050.99999999997],\n",
       " [135507.99999999997],\n",
       " [136561.0],\n",
       " [142878.99999999997],\n",
       " [143932.0],\n",
       " [149548.0],\n",
       " [159376.0],\n",
       " [144634.0],\n",
       " [143230.0],\n",
       " [146740.0],\n",
       " [148495.0],\n",
       " [149899.0],\n",
       " [150249.99999999997],\n",
       " [144283.0],\n",
       " [158323.0],\n",
       " [157972.0],\n",
       " [154111.0],\n",
       " [156919.0],\n",
       " [161833.0],\n",
       " [153760.0],\n",
       " [167098.0],\n",
       " [163237.0],\n",
       " [164290.0],\n",
       " [175522.0],\n",
       " [161482.0],\n",
       " [162184.0],\n",
       " [171661.0],\n",
       " [170958.99999999997],\n",
       " [181138.0],\n",
       " [160780.0],\n",
       " [196231.0],\n",
       " [182542.0],\n",
       " [179032.0],\n",
       " [182542.0],\n",
       " [191317.0],\n",
       " [187105.0],\n",
       " [179032.0],\n",
       " [187105.0],\n",
       " [210271.0],\n",
       " [174118.0],\n",
       " [190966.0],\n",
       " [195178.0],\n",
       " [194476.0],\n",
       " [187105.0],\n",
       " [203602.0],\n",
       " [222556.0],\n",
       " [218695.0],\n",
       " [226417.0],\n",
       " [219397.0],\n",
       " [194476.0],\n",
       " [220801.0],\n",
       " [235894.0],\n",
       " [250636.0],\n",
       " [240457.0],\n",
       " [254497.0],\n",
       " [230278.0],\n",
       " [250987.00000000003],\n",
       " [233437.0],\n",
       " [207112.0],\n",
       " [199390.0],\n",
       " [216940.0],\n",
       " [190615.0],\n",
       " [198688.0],\n",
       " [208165.0],\n",
       " [223258.0],\n",
       " [199390.0],\n",
       " [210271.0],\n",
       " [180787.0],\n",
       " [193774.0],\n",
       " [215536.0],\n",
       " [175522.0],\n",
       " [188860.0],\n",
       " [187456.0],\n",
       " [172363.0],\n",
       " [199390.0],\n",
       " [189211.0],\n",
       " [177979.0],\n",
       " [186052.0],\n",
       " [192721.0],\n",
       " [198337.0],\n",
       " [183595.0],\n",
       " [188860.0],\n",
       " [196582.0],\n",
       " [203602.0],\n",
       " [196933.0],\n",
       " [173415.99999999997],\n",
       " [200443.0],\n",
       " [182542.0],\n",
       " [180085.0],\n",
       " [189562.0],\n",
       " [195529.0],\n",
       " [187105.0],\n",
       " [189562.0],\n",
       " [208516.0],\n",
       " [193774.0],\n",
       " [196582.0],\n",
       " [168853.0],\n",
       " [166747.0],\n",
       " [183946.0],\n",
       " [179383.0],\n",
       " [176926.0],\n",
       " [175171.0],\n",
       " [187105.0],\n",
       " [186403.0],\n",
       " [193423.0],\n",
       " [197284.0],\n",
       " [193423.0],\n",
       " [223960.0],\n",
       " [212026.0],\n",
       " [182893.0],\n",
       " [219397.0],\n",
       " [209569.0],\n",
       " [230629.0],\n",
       " [196231.0],\n",
       " [199039.0],\n",
       " [190264.0],\n",
       " [203602.0],\n",
       " [216589.0],\n",
       " [188860.0],\n",
       " [214132.0],\n",
       " [201145.0],\n",
       " [181138.0],\n",
       " [200794.0],\n",
       " [189913.0],\n",
       " [214132.0],\n",
       " [205006.0],\n",
       " [202198.0],\n",
       " [211324.0],\n",
       " [194476.0],\n",
       " [203602.0],\n",
       " [212377.0],\n",
       " [212728.0],\n",
       " [190264.0],\n",
       " [160780.0],\n",
       " [196933.0],\n",
       " [180787.0],\n",
       " [131296.0],\n",
       " [177423.86674392223],\n",
       " [192708.76721018553],\n",
       " [185177.75234124064],\n",
       " [186352.7400392592],\n",
       " [193001.81835210323],\n",
       " [190017.95013844967],\n",
       " [191967.42279675603],\n",
       " [194730.5388390422],\n",
       " [194186.9912791252],\n",
       " [195637.69980871677]]"
      ]
     },
     "execution_count": 125,
     "metadata": {},
     "output_type": "execute_result"
    }
   ],
   "source": [
    "df4"
   ]
  },
  {
   "cell_type": "code",
   "execution_count": 126,
   "id": "2b01345a",
   "metadata": {},
   "outputs": [
    {
     "data": {
      "text/plain": [
       "[<matplotlib.lines.Line2D at 0x226566c3280>]"
      ]
     },
     "execution_count": 126,
     "metadata": {},
     "output_type": "execute_result"
    },
    {
     "data": {
      "image/png": "[encoded data removed]",
      "text/plain": [
       "<Figure size 432x288 with 1 Axes>"
      ]
     },
     "metadata": {
      "needs_background": "light"
     },
     "output_type": "display_data"
    }
   ],
   "source": [
    "plt.plot(df3)"
   ]
  },
  {
   "cell_type": "code",
   "execution_count": 50,
   "id": "f3a233a7",
   "metadata": {},
   "outputs": [],
   "source": [
    "from __future__ import division, print_function\n",
    "import seaborn as sns\n",
    "import scipy as sp\n",
    "from scipy import signal"
   ]
  },
  {
   "cell_type": "code",
   "execution_count": 55,
   "id": "5e822877",
   "metadata": {},
   "outputs": [],
   "source": [
    "def emd(data, nIMF=3,stoplim= .001):\n",
    "    r=data\n",
    "    t=np.arange(len(r))\n",
    "    imfs=np.zeros(nIMF, dtype=object)\n",
    "    for i in range(nIMF):\n",
    "        r_t=r\n",
    "        is_imf= False\n",
    "        while is_imf==False:\n",
    "            #we trying to identifying peaks and troughs\n",
    "            pks = sp.signal.argrelmax(r_t)[0]\n",
    "            trs = sp.signal.argrelmin(r_t)[0]\n",
    "            \n",
    "            #interpolate extrema\n",
    "            pks_r=r_t[pks]\n",
    "            fip=sp.interpolate.InterpolatedUnivariateSpline(pks,pks_r,k=3)\n",
    "            pks_t=fip(t)\n",
    "            trs_r=r_t[trs]\n",
    "            fitr=sp.interpolate.InterpolatedUnivariateSpline(trs,trs_r,k=3)\n",
    "            trs_t=fitr(t)\n",
    "            \n",
    "            #calculating mean\n",
    "            mean_t=(pks_t+trs_t)/2\n",
    "            mean_t= _emd_complim(mean_t,pks, trs)\n",
    "            \n",
    "            # Assess if this is an IMF (only look in time between peaks and troughs)\n",
    "            sdk=_emd_comperror(r_t,mean_t,pks,trs)\n",
    "            \n",
    "            #if not imf, updating r_t and is_imf\n",
    "            if sdk < stoplim:\n",
    "                is_imf=True\n",
    "            else:\n",
    "                r_t = r_t - mean_t\n",
    "        \n",
    "        imfs[i] = r_t\n",
    "        r =  r - imfs[i]\n",
    "        return imfs\n",
    "    \n",
    "def _emd_comperror(h, mean, pks, trs):\n",
    "    #\"\"\"Calculate the normalized error of the current component\"\"\"\n",
    "    samp_start = np.max((np.min(pks),np.min(trs)))\n",
    "    samp_end = np.min((np.max(pks),np.max(trs))) + 1\n",
    "    return np.sum(np.abs(mean[samp_start:samp_end]**2)) / np.sum(np.abs(h[samp_start:samp_end]**2))\n",
    "\n",
    "\n",
    "def _emd_complim(mean_t, pks, trs):\n",
    "    samp_start = np.max((np.min(pks),np.min(trs)))\n",
    "    samp_end = np.min((np.max(pks),np.max(trs))) + 1\n",
    "    mean_t[:samp_start] = mean_t[samp_start]\n",
    "    mean_t[samp_end:] = mean_t[samp_end]\n",
    "    return mean_t"
   ]
  },
  {
   "cell_type": "code",
   "execution_count": 68,
   "id": "cfabec90",
   "metadata": {},
   "outputs": [],
   "source": [
    "X=np.array(hp_input)\n",
    "t=np.arange(0,len(X)*.001,1)"
   ]
  },
  {
   "cell_type": "code",
   "execution_count": 66,
   "id": "762bf670",
   "metadata": {},
   "outputs": [
    {
     "ename": "ValueError",
     "evalue": "x and y should have a same length",
     "output_type": "error",
     "traceback": [
      "\u001b[1;31m---------------------------------------------------------------------------\u001b[0m",
      "\u001b[1;31mValueError\u001b[0m                                Traceback (most recent call last)",
      "\u001b[1;32m<ipython-input-66-e150629158d2>\u001b[0m in \u001b[0;36m<module>\u001b[1;34m\u001b[0m\n\u001b[1;32m----> 1\u001b[1;33m \u001b[0mimfs\u001b[0m\u001b[1;33m=\u001b[0m \u001b[0memd\u001b[0m\u001b[1;33m(\u001b[0m\u001b[0mX\u001b[0m\u001b[1;33m,\u001b[0m\u001b[0mnIMF\u001b[0m\u001b[1;33m=\u001b[0m\u001b[1;36m5\u001b[0m\u001b[1;33m)\u001b[0m\u001b[1;33m\u001b[0m\u001b[1;33m\u001b[0m\u001b[0m\n\u001b[0m",
      "\u001b[1;32m<ipython-input-55-36e40564a0d6>\u001b[0m in \u001b[0;36memd\u001b[1;34m(data, nIMF, stoplim)\u001b[0m\n\u001b[0;32m     13\u001b[0m             \u001b[1;31m#interpolate extrema\u001b[0m\u001b[1;33m\u001b[0m\u001b[1;33m\u001b[0m\u001b[1;33m\u001b[0m\u001b[0m\n\u001b[0;32m     14\u001b[0m             \u001b[0mpks_r\u001b[0m\u001b[1;33m=\u001b[0m\u001b[0mr_t\u001b[0m\u001b[1;33m[\u001b[0m\u001b[0mpks\u001b[0m\u001b[1;33m]\u001b[0m\u001b[1;33m\u001b[0m\u001b[1;33m\u001b[0m\u001b[0m\n\u001b[1;32m---> 15\u001b[1;33m             \u001b[0mfip\u001b[0m\u001b[1;33m=\u001b[0m\u001b[0msp\u001b[0m\u001b[1;33m.\u001b[0m\u001b[0minterpolate\u001b[0m\u001b[1;33m.\u001b[0m\u001b[0mInterpolatedUnivariateSpline\u001b[0m\u001b[1;33m(\u001b[0m\u001b[0mpks\u001b[0m\u001b[1;33m,\u001b[0m\u001b[0mpks_r\u001b[0m\u001b[1;33m,\u001b[0m\u001b[0mk\u001b[0m\u001b[1;33m=\u001b[0m\u001b[1;36m3\u001b[0m\u001b[1;33m)\u001b[0m\u001b[1;33m\u001b[0m\u001b[1;33m\u001b[0m\u001b[0m\n\u001b[0m\u001b[0;32m     16\u001b[0m             \u001b[0mpks_t\u001b[0m\u001b[1;33m=\u001b[0m\u001b[0mfip\u001b[0m\u001b[1;33m(\u001b[0m\u001b[0mt\u001b[0m\u001b[1;33m)\u001b[0m\u001b[1;33m\u001b[0m\u001b[1;33m\u001b[0m\u001b[0m\n\u001b[0;32m     17\u001b[0m             \u001b[0mtrs_r\u001b[0m\u001b[1;33m=\u001b[0m\u001b[0mr_t\u001b[0m\u001b[1;33m[\u001b[0m\u001b[0mtrs\u001b[0m\u001b[1;33m]\u001b[0m\u001b[1;33m\u001b[0m\u001b[1;33m\u001b[0m\u001b[0m\n",
      "\u001b[1;32mc:\\users\\koush\\appdata\\local\\programs\\python\\python39\\lib\\site-packages\\scipy\\interpolate\\fitpack2.py\u001b[0m in \u001b[0;36m__init__\u001b[1;34m(self, x, y, w, bbox, k, ext, check_finite)\u001b[0m\n\u001b[0;32m    657\u001b[0m                  ext=0, check_finite=False):\n\u001b[0;32m    658\u001b[0m \u001b[1;33m\u001b[0m\u001b[0m\n\u001b[1;32m--> 659\u001b[1;33m         x, y, w, bbox, self.ext = self.validate_input(x, y, w, bbox, k, None,\n\u001b[0m\u001b[0;32m    660\u001b[0m                                             ext, check_finite)\n\u001b[0;32m    661\u001b[0m         \u001b[1;32mif\u001b[0m \u001b[1;32mnot\u001b[0m \u001b[0mnp\u001b[0m\u001b[1;33m.\u001b[0m\u001b[0mall\u001b[0m\u001b[1;33m(\u001b[0m\u001b[0mdiff\u001b[0m\u001b[1;33m(\u001b[0m\u001b[0mx\u001b[0m\u001b[1;33m)\u001b[0m \u001b[1;33m>\u001b[0m \u001b[1;36m0.0\u001b[0m\u001b[1;33m)\u001b[0m\u001b[1;33m:\u001b[0m\u001b[1;33m\u001b[0m\u001b[1;33m\u001b[0m\u001b[0m\n",
      "\u001b[1;32mc:\\users\\koush\\appdata\\local\\programs\\python\\python39\\lib\\site-packages\\scipy\\interpolate\\fitpack2.py\u001b[0m in \u001b[0;36mvalidate_input\u001b[1;34m(x, y, w, bbox, k, s, ext, check_finite)\u001b[0m\n\u001b[0;32m    226\u001b[0m                 \u001b[1;32mraise\u001b[0m \u001b[0mValueError\u001b[0m\u001b[1;33m(\u001b[0m\u001b[1;34m\"x must be strictly increasing if s = 0\"\u001b[0m\u001b[1;33m)\u001b[0m\u001b[1;33m\u001b[0m\u001b[1;33m\u001b[0m\u001b[0m\n\u001b[0;32m    227\u001b[0m         \u001b[1;32mif\u001b[0m \u001b[0mx\u001b[0m\u001b[1;33m.\u001b[0m\u001b[0msize\u001b[0m \u001b[1;33m!=\u001b[0m \u001b[0my\u001b[0m\u001b[1;33m.\u001b[0m\u001b[0msize\u001b[0m\u001b[1;33m:\u001b[0m\u001b[1;33m\u001b[0m\u001b[1;33m\u001b[0m\u001b[0m\n\u001b[1;32m--> 228\u001b[1;33m             \u001b[1;32mraise\u001b[0m \u001b[0mValueError\u001b[0m\u001b[1;33m(\u001b[0m\u001b[1;34m\"x and y should have a same length\"\u001b[0m\u001b[1;33m)\u001b[0m\u001b[1;33m\u001b[0m\u001b[1;33m\u001b[0m\u001b[0m\n\u001b[0m\u001b[0;32m    229\u001b[0m         \u001b[1;32melif\u001b[0m \u001b[0mw\u001b[0m \u001b[1;32mis\u001b[0m \u001b[1;32mnot\u001b[0m \u001b[1;32mNone\u001b[0m \u001b[1;32mand\u001b[0m \u001b[1;32mnot\u001b[0m \u001b[0mx\u001b[0m\u001b[1;33m.\u001b[0m\u001b[0msize\u001b[0m \u001b[1;33m==\u001b[0m \u001b[0my\u001b[0m\u001b[1;33m.\u001b[0m\u001b[0msize\u001b[0m \u001b[1;33m==\u001b[0m \u001b[0mw\u001b[0m\u001b[1;33m.\u001b[0m\u001b[0msize\u001b[0m\u001b[1;33m:\u001b[0m\u001b[1;33m\u001b[0m\u001b[1;33m\u001b[0m\u001b[0m\n\u001b[0;32m    230\u001b[0m             \u001b[1;32mraise\u001b[0m \u001b[0mValueError\u001b[0m\u001b[1;33m(\u001b[0m\u001b[1;34m\"x, y, and w should have a same length\"\u001b[0m\u001b[1;33m)\u001b[0m\u001b[1;33m\u001b[0m\u001b[1;33m\u001b[0m\u001b[0m\n",
      "\u001b[1;31mValueError\u001b[0m: x and y should have a same length"
     ]
    }
   ],
   "source": [
    "imfs= emd(X,nIMF=5)"
   ]
  },
  {
   "cell_type": "code",
   "execution_count": null,
   "id": "fc64dd76",
   "metadata": {},
   "outputs": [],
   "source": [
    "from PyEMD import EMD, Visualisation\n",
    "\n",
    "s = np.random.random(100)\n",
    "emd = EMD()\n",
    "IMFs = emd(s)\n",
    "\n",
    "\n",
    "vis = Visualisation()\n",
    "vis.plot_imfs(imfs=imfs, residue=res, t=t, include_residue=True)\n",
    "vis.plot_instant_freq(t, imfs=imfs)\n",
    "vis.show()"
   ]
  }
 ],
 "metadata": {
  "kernelspec": {
   "display_name": "Python 3",
   "language": "python",
   "name": "python3"
  },
  "language_info": {
   "codemirror_mode": {
    "name": "ipython",
    "version": 3
   },
   "file_extension": ".py",
   "mimetype": "text/x-python",
   "name": "python",
   "nbconvert_exporter": "python",
   "pygments_lexer": "ipython3",
   "version": "3.9.4"
  }
 },
 "nbformat": 4,
 "nbformat_minor": 5
}
